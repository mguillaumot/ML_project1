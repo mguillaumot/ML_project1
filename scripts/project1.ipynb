{
 "cells": [
  {
   "cell_type": "code",
   "execution_count": 1,
   "metadata": {},
   "outputs": [],
   "source": [
    "# Useful starting lines\n",
    "%matplotlib inline\n",
    "import numpy as np\n",
    "import matplotlib.pyplot as plt\n",
    "from scipy import linalg\n",
    "from implementations import *\n",
    "%load_ext autoreload\n",
    "%autoreload 2"
   ]
  },
  {
   "cell_type": "markdown",
   "metadata": {},
   "source": [
    "Load the data\n"
   ]
  },
  {
   "cell_type": "code",
   "execution_count": 2,
   "metadata": {},
   "outputs": [],
   "source": [
    "from proj1_helpers import *\n",
    "yb_test, input_data_test, ids_test = load_csv_data('/Users/mathildeguillaumot/Documents/EPFL/MACHINE_LEARNING/projects/project1/data/test.csv')\n",
    "yb_train, input_data_train, ids_train = load_csv_data('/Users/mathildeguillaumot/Documents/EPFL/MACHINE_LEARNING/projects/project1/data/train.csv')"
   ]
  },
  {
   "cell_type": "markdown",
   "metadata": {},
   "source": [
    "count missing values among columns"
   ]
  },
  {
   "cell_type": "code",
   "execution_count": 3,
   "metadata": {},
   "outputs": [],
   "source": [
    "D_train = len(input_data_train[0])\n",
    "N_train = len(input_data_train[:,0])\n",
    "count_missing_values_train = np.zeros((D_train,1))\n",
    "for j in range(D_train):\n",
    "    for i in range(N_train):\n",
    "        if input_data_train[i,j] == -999:\n",
    "            count_missing_values_train[j] += 1   "
   ]
  },
  {
   "cell_type": "markdown",
   "metadata": {},
   "source": [
    "calculate ratio of missing values among columns on training dataset"
   ]
  },
  {
   "cell_type": "code",
   "execution_count": 4,
   "metadata": {},
   "outputs": [],
   "source": [
    "ratio_missing_values_train = count_missing_values_train / N_train"
   ]
  },
  {
   "cell_type": "code",
   "execution_count": 5,
   "metadata": {
    "scrolled": true
   },
   "outputs": [
    {
     "data": {
      "text/plain": [
       "array([[ 0.152456],\n",
       "       [ 0.      ],\n",
       "       [ 0.      ],\n",
       "       [ 0.      ],\n",
       "       [ 0.709828],\n",
       "       [ 0.709828],\n",
       "       [ 0.709828],\n",
       "       [ 0.      ],\n",
       "       [ 0.      ],\n",
       "       [ 0.      ],\n",
       "       [ 0.      ],\n",
       "       [ 0.      ],\n",
       "       [ 0.709828],\n",
       "       [ 0.      ],\n",
       "       [ 0.      ],\n",
       "       [ 0.      ],\n",
       "       [ 0.      ],\n",
       "       [ 0.      ],\n",
       "       [ 0.      ],\n",
       "       [ 0.      ],\n",
       "       [ 0.      ],\n",
       "       [ 0.      ],\n",
       "       [ 0.      ],\n",
       "       [ 0.399652],\n",
       "       [ 0.399652],\n",
       "       [ 0.399652],\n",
       "       [ 0.709828],\n",
       "       [ 0.709828],\n",
       "       [ 0.709828],\n",
       "       [ 0.      ]])"
      ]
     },
     "execution_count": 5,
     "metadata": {},
     "output_type": "execute_result"
    }
   ],
   "source": [
    "ratio_missing_values_train"
   ]
  },
  {
   "cell_type": "code",
   "execution_count": 6,
   "metadata": {},
   "outputs": [],
   "source": [
    "indices_of_dropped_columns_train = []\n",
    "for i in range (D_train):\n",
    "    if ratio_missing_values_train[i] > 0.15:\n",
    "        indices_of_dropped_columns_train.append(i)"
   ]
  },
  {
   "cell_type": "code",
   "execution_count": 7,
   "metadata": {},
   "outputs": [
    {
     "data": {
      "text/plain": [
       "[0, 4, 5, 6, 12, 23, 24, 25, 26, 27, 28]"
      ]
     },
     "execution_count": 7,
     "metadata": {},
     "output_type": "execute_result"
    }
   ],
   "source": [
    "indices_of_dropped_columns_train"
   ]
  },
  {
   "cell_type": "code",
   "execution_count": 8,
   "metadata": {},
   "outputs": [],
   "source": [
    "indices_of_dropped_rows_train = []"
   ]
  },
  {
   "cell_type": "code",
   "execution_count": 9,
   "metadata": {},
   "outputs": [],
   "source": [
    "for i in range (N_train):\n",
    "    if input_data_train[i,0] ==-999:\n",
    "        indices_of_dropped_rows_train.append(i)"
   ]
  },
  {
   "cell_type": "markdown",
   "metadata": {},
   "source": [
    "same processing for test data"
   ]
  },
  {
   "cell_type": "code",
   "execution_count": 10,
   "metadata": {},
   "outputs": [],
   "source": [
    "D_test = len(input_data_test[0])\n",
    "N_test = len(input_data_test[:,0])\n",
    "count_missing_values_test = np.zeros((D_test,1))\n",
    "for j in range(D_test):\n",
    "    for i in range(N_test):\n",
    "        if input_data_test[i,j] == -999:\n",
    "            count_missing_values_test[j] += 1"
   ]
  },
  {
   "cell_type": "code",
   "execution_count": 11,
   "metadata": {},
   "outputs": [],
   "source": [
    "ratio_missing_values_test = count_missing_values_test / N_test"
   ]
  },
  {
   "cell_type": "code",
   "execution_count": 12,
   "metadata": {},
   "outputs": [
    {
     "data": {
      "text/plain": [
       "array([[ 0.15220383],\n",
       "       [ 0.        ],\n",
       "       [ 0.        ],\n",
       "       [ 0.        ],\n",
       "       [ 0.70885087],\n",
       "       [ 0.70885087],\n",
       "       [ 0.70885087],\n",
       "       [ 0.        ],\n",
       "       [ 0.        ],\n",
       "       [ 0.        ],\n",
       "       [ 0.        ],\n",
       "       [ 0.        ],\n",
       "       [ 0.70885087],\n",
       "       [ 0.        ],\n",
       "       [ 0.        ],\n",
       "       [ 0.        ],\n",
       "       [ 0.        ],\n",
       "       [ 0.        ],\n",
       "       [ 0.        ],\n",
       "       [ 0.        ],\n",
       "       [ 0.        ],\n",
       "       [ 0.        ],\n",
       "       [ 0.        ],\n",
       "       [ 0.4002865 ],\n",
       "       [ 0.4002865 ],\n",
       "       [ 0.4002865 ],\n",
       "       [ 0.70885087],\n",
       "       [ 0.70885087],\n",
       "       [ 0.70885087],\n",
       "       [ 0.        ]])"
      ]
     },
     "execution_count": 12,
     "metadata": {},
     "output_type": "execute_result"
    }
   ],
   "source": [
    "ratio_missing_values_test"
   ]
  },
  {
   "cell_type": "code",
   "execution_count": 13,
   "metadata": {},
   "outputs": [],
   "source": [
    "indices_of_dropped_columns_test = []\n",
    "for i in range (D_test):\n",
    "    if ratio_missing_values_test[i] > 0.15:\n",
    "        indices_of_dropped_columns_test.append(i)"
   ]
  },
  {
   "cell_type": "code",
   "execution_count": 14,
   "metadata": {},
   "outputs": [
    {
     "data": {
      "text/plain": [
       "[0, 4, 5, 6, 12, 23, 24, 25, 26, 27, 28]"
      ]
     },
     "execution_count": 14,
     "metadata": {},
     "output_type": "execute_result"
    }
   ],
   "source": [
    "indices_of_dropped_columns_test"
   ]
  },
  {
   "cell_type": "markdown",
   "metadata": {},
   "source": [
    "drop rows with estimated mass of the higgs boson undefined"
   ]
  },
  {
   "cell_type": "code",
   "execution_count": 15,
   "metadata": {},
   "outputs": [],
   "source": [
    "indices_of_dropped_rows_test = []"
   ]
  },
  {
   "cell_type": "code",
   "execution_count": 16,
   "metadata": {},
   "outputs": [],
   "source": [
    "for i in range (N_test):\n",
    "    if input_data_test[i,0] ==-999:\n",
    "        indices_of_dropped_rows_test.append(i)"
   ]
  },
  {
   "cell_type": "code",
   "execution_count": 17,
   "metadata": {},
   "outputs": [],
   "source": [
    "#input_data_train = np.delete(input_data_train,indices_of_dropped_rows_train,0)\n",
    "#input_data_test = np.delete(input_data_test,indices_of_dropped_rows_test,0)\n",
    "\n",
    "#yb_train = np.delete(yb_train,indices_of_dropped_rows_train,0)\n",
    "#yb_test = np.delete(yb_test,indices_of_dropped_rows_test,0)"
   ]
  },
  {
   "cell_type": "code",
   "execution_count": 18,
   "metadata": {},
   "outputs": [],
   "source": [
    "input_data_train_rows_dropped = np.delete(input_data_train,indices_of_dropped_rows_train,0)\n",
    "input_data_test_rows_dropped = np.delete(input_data_test,indices_of_dropped_rows_test,0)"
   ]
  },
  {
   "cell_type": "code",
   "execution_count": 19,
   "metadata": {},
   "outputs": [],
   "source": [
    "input_data_train[indices_of_dropped_rows_train,0] = round(np.mean(input_data_train_rows_dropped[:,0]),3)\n",
    "input_data_test[indices_of_dropped_rows_test,0] = round(np.mean(input_data_test_rows_dropped[:,0]),3)"
   ]
  },
  {
   "cell_type": "markdown",
   "metadata": {},
   "source": [
    "subset for PRI_jet_num = 0 // drop columns about jets"
   ]
  },
  {
   "cell_type": "code",
   "execution_count": 20,
   "metadata": {},
   "outputs": [],
   "source": [
    "indices_data_train_jet0 = np.where(input_data_train[:,22] == 0)"
   ]
  },
  {
   "cell_type": "code",
   "execution_count": 21,
   "metadata": {},
   "outputs": [],
   "source": [
    "input_data_train_jet0 = input_data_train[indices_data_train_jet0]\n",
    "yb_train_jet0 = yb_train[indices_data_train_jet0]"
   ]
  },
  {
   "cell_type": "code",
   "execution_count": 22,
   "metadata": {},
   "outputs": [],
   "source": [
    "input_data_train_jet0 = np.delete(input_data_train_jet0,indices_of_dropped_columns_train[1:],1)"
   ]
  },
  {
   "cell_type": "code",
   "execution_count": 23,
   "metadata": {},
   "outputs": [],
   "source": [
    "input_data_train_jet0 = np.delete(input_data_train_jet0,[18,19],1)"
   ]
  },
  {
   "cell_type": "code",
   "execution_count": 24,
   "metadata": {},
   "outputs": [
    {
     "data": {
      "text/plain": [
       "(99913, 18)"
      ]
     },
     "execution_count": 24,
     "metadata": {},
     "output_type": "execute_result"
    }
   ],
   "source": [
    "input_data_train_jet0.shape"
   ]
  },
  {
   "cell_type": "markdown",
   "metadata": {},
   "source": [
    "get test data for PRI_jet_num = 0"
   ]
  },
  {
   "cell_type": "code",
   "execution_count": 25,
   "metadata": {},
   "outputs": [],
   "source": [
    "indices_data_test_jet0 = np.where(input_data_test[:,22] == 0)\n",
    "input_data_test_jet0 = input_data_test[indices_data_test_jet0]\n",
    "yb_test_jet0 = yb_test[indices_data_test_jet0]\n",
    "input_data_test_jet0 = np.delete(input_data_test_jet0,indices_of_dropped_columns_test[1:],1)\n",
    "input_data_test_jet0 = np.delete(input_data_test_jet0,[18,19],1)"
   ]
  },
  {
   "cell_type": "code",
   "execution_count": 26,
   "metadata": {},
   "outputs": [
    {
     "data": {
      "text/plain": [
       "(568238,)"
      ]
     },
     "execution_count": 26,
     "metadata": {},
     "output_type": "execute_result"
    }
   ],
   "source": [
    "yb_test.shape"
   ]
  },
  {
   "cell_type": "markdown",
   "metadata": {},
   "source": [
    "subset for PRI_jet_num = 1 // drop columns with calculation on more than 1 jet + drop last column bc value already in previous column"
   ]
  },
  {
   "cell_type": "code",
   "execution_count": 27,
   "metadata": {},
   "outputs": [],
   "source": [
    "indices_data_train_jet1 = np.where(input_data_train[:,22] == 1)"
   ]
  },
  {
   "cell_type": "code",
   "execution_count": 28,
   "metadata": {},
   "outputs": [],
   "source": [
    "input_data_train_jet1 = input_data_train[indices_data_train_jet1]\n",
    "yb_train_jet1 = yb_train[indices_data_train_jet1]"
   ]
  },
  {
   "cell_type": "code",
   "execution_count": 29,
   "metadata": {},
   "outputs": [],
   "source": [
    "input_data_train_jet1 = np.delete(input_data_train_jet1,[4,5,6,12,22,26,27,28,29],1)"
   ]
  },
  {
   "cell_type": "code",
   "execution_count": 30,
   "metadata": {},
   "outputs": [
    {
     "data": {
      "text/plain": [
       "(77544, 21)"
      ]
     },
     "execution_count": 30,
     "metadata": {},
     "output_type": "execute_result"
    }
   ],
   "source": [
    "input_data_train_jet1.shape"
   ]
  },
  {
   "cell_type": "markdown",
   "metadata": {},
   "source": [
    "get test data for PRI_jet_num = 1"
   ]
  },
  {
   "cell_type": "code",
   "execution_count": 31,
   "metadata": {},
   "outputs": [],
   "source": [
    "indices_data_test_jet1 = np.where(input_data_test[:,22] == 1)\n",
    "input_data_test_jet1 = input_data_test[indices_data_test_jet1]\n",
    "yb_test_jet1 = yb_test[indices_data_test_jet1]\n",
    "input_data_test_jet1 = np.delete(input_data_test_jet1,[4,5,6,12,22,26,27,28,29],1)"
   ]
  },
  {
   "cell_type": "code",
   "execution_count": 32,
   "metadata": {},
   "outputs": [
    {
     "data": {
      "text/plain": [
       "(175338, 21)"
      ]
     },
     "execution_count": 32,
     "metadata": {},
     "output_type": "execute_result"
    }
   ],
   "source": [
    "input_data_test_jet1.shape"
   ]
  },
  {
   "cell_type": "markdown",
   "metadata": {},
   "source": [
    "subset for PRI_jet_num > 1 and drop columns about calculation for each jet bc it is summed in last column"
   ]
  },
  {
   "cell_type": "code",
   "execution_count": 33,
   "metadata": {},
   "outputs": [],
   "source": [
    "indices_data_train_jet23 = np.where(input_data_train[:,22] > 1)"
   ]
  },
  {
   "cell_type": "code",
   "execution_count": 34,
   "metadata": {},
   "outputs": [],
   "source": [
    "input_data_train_jet23 = input_data_train[indices_data_train_jet23]\n",
    "yb_train_jet23 = yb_train[indices_data_train_jet23]"
   ]
  },
  {
   "cell_type": "code",
   "execution_count": 35,
   "metadata": {
    "scrolled": true
   },
   "outputs": [
    {
     "data": {
      "text/plain": [
       "(72543, 30)"
      ]
     },
     "execution_count": 35,
     "metadata": {},
     "output_type": "execute_result"
    }
   ],
   "source": [
    "input_data_train_jet23.shape"
   ]
  },
  {
   "cell_type": "code",
   "execution_count": 36,
   "metadata": {},
   "outputs": [],
   "source": [
    "input_data_train_jet23 = np.delete(input_data_train_jet23,[22,23,26],1)"
   ]
  },
  {
   "cell_type": "markdown",
   "metadata": {},
   "source": [
    "get test data for PRI_jet_num > 1"
   ]
  },
  {
   "cell_type": "code",
   "execution_count": 37,
   "metadata": {},
   "outputs": [],
   "source": [
    "indices_data_test_jet23 = np.where(input_data_test[:,22] > 1)\n",
    "input_data_test_jet23 = input_data_test[indices_data_test_jet23]\n",
    "yb_test_jet23 = yb_test[indices_data_test_jet23]\n",
    "input_data_test_jet23 = np.delete(input_data_test_jet23,[22,23,26],1)"
   ]
  },
  {
   "cell_type": "markdown",
   "metadata": {},
   "source": [
    "## change range of positive columns"
   ]
  },
  {
   "cell_type": "code",
   "execution_count": 38,
   "metadata": {},
   "outputs": [],
   "source": [
    "D_jet0 = len(input_data_train_jet0[0])\n",
    "N_jet0 = len(input_data_train_jet0[:,0])"
   ]
  },
  {
   "cell_type": "code",
   "execution_count": 39,
   "metadata": {},
   "outputs": [],
   "source": [
    "count_positive_values_jet0 = np.zeros((D_jet0,1))\n",
    "for j in range(D_jet0):\n",
    "    for i in range(N_jet0):\n",
    "        if input_data_train_jet0[i,j] >0:\n",
    "            count_positive_values_jet0[j] += 1"
   ]
  },
  {
   "cell_type": "code",
   "execution_count": 40,
   "metadata": {},
   "outputs": [],
   "source": [
    "ratio_positive_columns_jet0 = count_positive_values_jet0 / N_jet0\n",
    "indices_of_positive_columns_jet0 = []\n",
    "for i in range (0,D_jet0):\n",
    "    if ratio_positive_columns_jet0[i] == 1:\n",
    "        indices_of_positive_columns_jet0.append(i)"
   ]
  },
  {
   "cell_type": "code",
   "execution_count": 41,
   "metadata": {},
   "outputs": [
    {
     "data": {
      "text/plain": [
       "[0, 1, 2, 4, 6, 7, 9, 12, 15, 17]"
      ]
     },
     "execution_count": 41,
     "metadata": {},
     "output_type": "execute_result"
    }
   ],
   "source": [
    "indices_of_positive_columns_jet0"
   ]
  },
  {
   "cell_type": "code",
   "execution_count": 42,
   "metadata": {},
   "outputs": [],
   "source": [
    "input_data_train_jet0[:,indices_of_positive_columns_jet0] = 1/(1+np.log(input_data_train_jet0[:,indices_of_positive_columns_jet0]))\n",
    "input_data_test_jet0[:,indices_of_positive_columns_jet0] = 1/(1+np.log(input_data_test_jet0[:,indices_of_positive_columns_jet0]))"
   ]
  },
  {
   "cell_type": "code",
   "execution_count": 43,
   "metadata": {},
   "outputs": [],
   "source": [
    "D_jet1 = len(input_data_train_jet1[0])\n",
    "N_jet1 = len(input_data_train_jet1[:,0])\n",
    "count_positive_values_jet1 = np.zeros((D_jet1,1))\n",
    "for j in range(D_jet1):\n",
    "    for i in range(N_jet1):\n",
    "        if input_data_train_jet1[i,j] >0:\n",
    "            count_positive_values_jet1[j] += 1\n",
    "ratio_positive_columns_jet1 = count_positive_values_jet1 / N_jet1\n",
    "indices_of_positive_columns_jet1 = []\n",
    "for i in range (0,D_jet1):\n",
    "    if ratio_positive_columns_jet1[i] == 1:\n",
    "        indices_of_positive_columns_jet1.append(i)"
   ]
  },
  {
   "cell_type": "code",
   "execution_count": 44,
   "metadata": {
    "scrolled": true
   },
   "outputs": [
    {
     "data": {
      "text/plain": [
       "[0, 2, 4, 6, 7, 9, 12, 15, 17, 18]"
      ]
     },
     "execution_count": 44,
     "metadata": {},
     "output_type": "execute_result"
    }
   ],
   "source": [
    "indices_of_positive_columns_jet1"
   ]
  },
  {
   "cell_type": "code",
   "execution_count": 45,
   "metadata": {},
   "outputs": [],
   "source": [
    "input_data_train_jet1[:,indices_of_positive_columns_jet1] = 1/(1+np.log(input_data_train_jet1[:,indices_of_positive_columns_jet1]))\n",
    "input_data_test_jet1[:,indices_of_positive_columns_jet1] = 1/(1+np.log(input_data_test_jet1[:,indices_of_positive_columns_jet1]))"
   ]
  },
  {
   "cell_type": "code",
   "execution_count": 46,
   "metadata": {},
   "outputs": [],
   "source": [
    "D_jet23 = len(input_data_train_jet23[0])\n",
    "N_jet23 = len(input_data_train_jet23[:,0])\n",
    "count_positive_values_jet23 = np.zeros((D_jet23,1))\n",
    "for j in range(D_jet23):\n",
    "    for i in range(N_jet23):\n",
    "        if input_data_train_jet23[i,j] >0:\n",
    "            count_positive_values_jet23[j] += 1\n",
    "ratio_positive_columns_jet23 = count_positive_values_jet23 / N_jet23\n",
    "indices_of_positive_columns_jet23 = []\n",
    "for i in range (0,D_jet23):\n",
    "    if ratio_positive_columns_jet23[i] == 1:\n",
    "        indices_of_positive_columns_jet23.append(i)"
   ]
  },
  {
   "cell_type": "code",
   "execution_count": 47,
   "metadata": {},
   "outputs": [
    {
     "data": {
      "text/plain": [
       "[0, 2, 3, 5, 7, 8, 9, 10, 13, 16, 19, 21, 26]"
      ]
     },
     "execution_count": 47,
     "metadata": {},
     "output_type": "execute_result"
    }
   ],
   "source": [
    "indices_of_positive_columns_jet23"
   ]
  },
  {
   "cell_type": "code",
   "execution_count": 48,
   "metadata": {},
   "outputs": [],
   "source": [
    "input_data_train_jet23[:,indices_of_positive_columns_jet23] = 1/(1+np.log(input_data_train_jet23[:,indices_of_positive_columns_jet23]))\n",
    "input_data_test_jet23[:,indices_of_positive_columns_jet23] = 1/(1+np.log(input_data_test_jet23[:,indices_of_positive_columns_jet23]))"
   ]
  },
  {
   "cell_type": "code",
   "execution_count": null,
   "metadata": {},
   "outputs": [],
   "source": []
  },
  {
   "cell_type": "markdown",
   "metadata": {},
   "source": [
    "## standardize y and x values for both train and test data"
   ]
  },
  {
   "cell_type": "code",
   "execution_count": 49,
   "metadata": {},
   "outputs": [],
   "source": [
    "x_train_jet0, mean_x_train_jet0, std_x_train_jet0 = standardize(input_data_train_jet0)\n",
    "y_train_jet0, tx_train_jet0 = build_model_data(x_train_jet0, yb_train_jet0)"
   ]
  },
  {
   "cell_type": "code",
   "execution_count": 50,
   "metadata": {},
   "outputs": [],
   "source": [
    "x_test_jet0, mean_x_test_jet0, std_x_test_jet0 = standardize(input_data_test_jet0)\n",
    "y_test_jet0, tx_test_jet0 = build_model_data(x_test_jet0, yb_test_jet0)"
   ]
  },
  {
   "cell_type": "code",
   "execution_count": 51,
   "metadata": {},
   "outputs": [],
   "source": [
    "x_train_jet1, mean_x_train_jet1, std_x_train_jet1 = standardize(input_data_train_jet1)\n",
    "y_train_jet1, tx_train_jet1 = build_model_data(x_train_jet1, yb_train_jet1)\n",
    "\n",
    "x_test_jet1, mean_x_test_jet1, std_x_test_jet1 = standardize(input_data_test_jet1)\n",
    "y_test_jet1, tx_test_jet1 = build_model_data(x_test_jet1, yb_test_jet1)"
   ]
  },
  {
   "cell_type": "code",
   "execution_count": 52,
   "metadata": {},
   "outputs": [],
   "source": [
    "x_train_jet23, mean_x_train_jet23, std_x_train_jet23 = standardize(input_data_train_jet23)\n",
    "y_train_jet23, tx_train_jet23 = build_model_data(x_train_jet23, yb_train_jet23)\n",
    "\n",
    "x_test_jet23, mean_x_test_jet23, std_x_test_jet23 = standardize(input_data_test_jet23)\n",
    "y_test_jet23, tx_test_jet23 = build_model_data(x_test_jet23, yb_test_jet23)"
   ]
  },
  {
   "cell_type": "markdown",
   "metadata": {},
   "source": [
    "## implement linear regression using gradient descent"
   ]
  },
  {
   "cell_type": "code",
   "execution_count": 53,
   "metadata": {},
   "outputs": [],
   "source": [
    "max_iters_LRGD = 150\n",
    "gamma_LRGD_jet0 = 0.01\n",
    "gamma_LRGD_jet1 = 0.01\n",
    "gamma_LRGD_jet23 = 0.01\n",
    "initial_w_LRGD_jet0 = (np.array([0]*tx_train_jet0.shape[1]))\n",
    "initial_w_LRGD_jet1 = (np.array([0]*tx_train_jet1.shape[1]))\n",
    "initial_w_LRGD_jet23 = (np.array([0]*tx_train_jet23.shape[1]))"
   ]
  },
  {
   "cell_type": "code",
   "execution_count": 54,
   "metadata": {},
   "outputs": [],
   "source": [
    "w_LRGD_jet0, loss_LRGD_jet0 = least_squares_GD(y_train_jet0, tx_train_jet0, initial_w_LRGD_jet0, max_iters_LRGD, gamma_LRGD_jet0)\n",
    "w_LRGD_jet1, loss_LRGD_jet1 = least_squares_GD(y_train_jet1, tx_train_jet1, initial_w_LRGD_jet1, max_iters_LRGD, gamma_LRGD_jet1)\n",
    "w_LRGD_jet23, loss_LRGD_jet23 = least_squares_GD(y_train_jet23, tx_train_jet23, initial_w_LRGD_jet23, max_iters_LRGD, gamma_LRGD_jet23)"
   ]
  },
  {
   "cell_type": "code",
   "execution_count": 55,
   "metadata": {},
   "outputs": [
    {
     "data": {
      "text/plain": [
       "(0.3193590351127481, 0.37757381899357739, 0.3706769423890971)"
      ]
     },
     "execution_count": 55,
     "metadata": {},
     "output_type": "execute_result"
    }
   ],
   "source": [
    "loss_LRGD_jet0,loss_LRGD_jet1,loss_LRGD_jet23"
   ]
  },
  {
   "cell_type": "code",
   "execution_count": 56,
   "metadata": {
    "scrolled": true
   },
   "outputs": [],
   "source": [
    "y_pred_LRGD_jet0 = predict_labels(w_LRGD_jet0, tx_test_jet0)\n",
    "y_pred_LRGD_jet1 = predict_labels(w_LRGD_jet1, tx_test_jet1)\n",
    "y_pred_LRGD_jet23 = predict_labels(w_LRGD_jet23, tx_test_jet23)"
   ]
  },
  {
   "cell_type": "code",
   "execution_count": 57,
   "metadata": {
    "scrolled": true
   },
   "outputs": [],
   "source": [
    "y_pred_LRGD=np.zeros((len(yb_test),1))"
   ]
  },
  {
   "cell_type": "code",
   "execution_count": 58,
   "metadata": {
    "scrolled": true
   },
   "outputs": [],
   "source": [
    "np.put(y_pred_LRGD,indices_data_test_jet0,y_pred_LRGD_jet0)\n",
    "np.put(y_pred_LRGD,indices_data_test_jet1,y_pred_LRGD_jet1)\n",
    "np.put(y_pred_LRGD,indices_data_test_jet23,y_pred_LRGD_jet23)"
   ]
  },
  {
   "cell_type": "code",
   "execution_count": 59,
   "metadata": {},
   "outputs": [],
   "source": [
    "create_csv_submission(ids_test, y_pred_LRGD, 'y_pred_LRGD.csv')"
   ]
  },
  {
   "cell_type": "markdown",
   "metadata": {},
   "source": [
    "## implement linear regression using SGD"
   ]
  },
  {
   "cell_type": "code",
   "execution_count": 60,
   "metadata": {},
   "outputs": [],
   "source": [
    "max_iters_LRSGD = 150\n",
    "gamma_LRSGD_jet0 = 0.01\n",
    "gamma_LRSGD_jet1 = 0.01\n",
    "gamma_LRSGD_jet23 = 0.01\n",
    "initial_w_LRSGD_jet0 = (np.array([0]*tx_train_jet0.shape[1]))\n",
    "initial_w_LRSGD_jet1 = (np.array([0]*tx_train_jet1.shape[1]))\n",
    "initial_w_LRSGD_jet23 = (np.array([0]*tx_train_jet23.shape[1]))"
   ]
  },
  {
   "cell_type": "code",
   "execution_count": 61,
   "metadata": {},
   "outputs": [],
   "source": [
    "w_LRSGD_jet0, loss_LRSGD_jet0 = least_squares_SGD(y_train_jet0, tx_train_jet0, initial_w_LRSGD_jet0, max_iters_LRSGD, gamma_LRSGD_jet0)\n",
    "w_LRSGD_jet1, loss_LRSGD_jet1 = least_squares_SGD(y_train_jet1, tx_train_jet1, initial_w_LRSGD_jet1, max_iters_LRSGD, gamma_LRSGD_jet1)\n",
    "w_LRSGD_jet23, loss_LRSGD_jet23 = least_squares_SGD(y_train_jet23, tx_train_jet23, initial_w_LRSGD_jet23, max_iters_LRSGD, gamma_LRSGD_jet23)"
   ]
  },
  {
   "cell_type": "code",
   "execution_count": 62,
   "metadata": {},
   "outputs": [
    {
     "data": {
      "text/plain": [
       "(0.34304991130878076, 0.42524675419052393, 0.54456140483524818)"
      ]
     },
     "execution_count": 62,
     "metadata": {},
     "output_type": "execute_result"
    }
   ],
   "source": [
    "loss_LRSGD_jet0,loss_LRSGD_jet1,loss_LRSGD_jet23"
   ]
  },
  {
   "cell_type": "code",
   "execution_count": 63,
   "metadata": {},
   "outputs": [],
   "source": [
    "y_pred_LRSGD_jet0 = predict_labels(w_LRSGD_jet0, tx_test_jet0)\n",
    "y_pred_LRSGD_jet1 = predict_labels(w_LRSGD_jet1, tx_test_jet1)\n",
    "y_pred_LRSGD_jet23 = predict_labels(w_LRSGD_jet23, tx_test_jet23)"
   ]
  },
  {
   "cell_type": "code",
   "execution_count": 64,
   "metadata": {},
   "outputs": [],
   "source": [
    "y_pred_LRSGD=np.zeros((len(yb_test),1))\n",
    "np.put(y_pred_LRSGD,indices_data_test_jet0,y_pred_LRSGD_jet0)\n",
    "np.put(y_pred_LRSGD,indices_data_test_jet1,y_pred_LRSGD_jet1)\n",
    "np.put(y_pred_LRSGD,indices_data_test_jet23,y_pred_LRSGD_jet23)"
   ]
  },
  {
   "cell_type": "code",
   "execution_count": 65,
   "metadata": {},
   "outputs": [],
   "source": [
    "create_csv_submission(ids_test, y_pred_LRSGD, 'y_pred_LRSGD.csv')"
   ]
  },
  {
   "cell_type": "markdown",
   "metadata": {},
   "source": [
    "## implement least squares regression using normal equations"
   ]
  },
  {
   "cell_type": "code",
   "execution_count": 66,
   "metadata": {},
   "outputs": [],
   "source": [
    "w_LS_jet0, loss_LS_jet0 = least_squares(y_train_jet0, tx_train_jet0)\n",
    "w_LS_jet1, loss_LS_jet1 = least_squares(y_train_jet1, tx_train_jet1)\n",
    "w_LS_jet23, loss_LS_jet23 = least_squares(y_train_jet23, tx_train_jet23)\n",
    "\n",
    "y_pred_LS_jet0 = predict_labels(w_LS_jet0, tx_test_jet0)\n",
    "y_pred_LS_jet1 = predict_labels(w_LS_jet1, tx_test_jet1)\n",
    "y_pred_LS_jet23 = predict_labels(w_LS_jet23, tx_test_jet23)\n",
    "\n",
    "y_pred_LS=np.zeros((len(yb_test),1))\n",
    "np.put(y_pred_LS,indices_data_test_jet0,y_pred_LS_jet0)\n",
    "np.put(y_pred_LS,indices_data_test_jet1,y_pred_LS_jet1)\n",
    "np.put(y_pred_LS,indices_data_test_jet23,y_pred_LS_jet23)"
   ]
  },
  {
   "cell_type": "code",
   "execution_count": 67,
   "metadata": {},
   "outputs": [],
   "source": [
    "create_csv_submission(ids_test, y_pred_LS, 'y_pred_LS.csv')"
   ]
  },
  {
   "cell_type": "code",
   "execution_count": 68,
   "metadata": {
    "scrolled": true
   },
   "outputs": [
    {
     "data": {
      "text/plain": [
       "(0.78438971742841024, 0.86242454808998237, 0.85086570931596628)"
      ]
     },
     "execution_count": 68,
     "metadata": {},
     "output_type": "execute_result"
    }
   ],
   "source": [
    "loss_LS_jet0,loss_LS_jet1,loss_LS_jet23"
   ]
  },
  {
   "cell_type": "markdown",
   "metadata": {},
   "source": [
    "## implement ridge regression using normal equations"
   ]
  },
  {
   "cell_type": "markdown",
   "metadata": {},
   "source": [
    "## implement logistic regression using GD"
   ]
  },
  {
   "cell_type": "code",
   "execution_count": 69,
   "metadata": {},
   "outputs": [
    {
     "ename": "NameError",
     "evalue": "name 'initial_w_LogRGD_jet23' is not defined",
     "output_type": "error",
     "traceback": [
      "\u001b[0;31m---------------------------------------------------------------------------\u001b[0m",
      "\u001b[0;31mNameError\u001b[0m                                 Traceback (most recent call last)",
      "\u001b[0;32m<ipython-input-69-a918d588a5a3>\u001b[0m in \u001b[0;36m<module>\u001b[0;34m()\u001b[0m\n\u001b[0;32m----> 1\u001b[0;31m \u001b[0mlen\u001b[0m\u001b[0;34m(\u001b[0m\u001b[0minitial_w_LogRGD_jet23\u001b[0m\u001b[0;34m)\u001b[0m\u001b[0;34m\u001b[0m\u001b[0m\n\u001b[0m",
      "\u001b[0;31mNameError\u001b[0m: name 'initial_w_LogRGD_jet23' is not defined"
     ]
    }
   ],
   "source": [
    "len(initial_w_LogRGD_jet23)"
   ]
  },
  {
   "cell_type": "code",
   "execution_count": null,
   "metadata": {},
   "outputs": [],
   "source": [
    "y_train_jet0[:100]"
   ]
  },
  {
   "cell_type": "code",
   "execution_count": null,
   "metadata": {
    "scrolled": true
   },
   "outputs": [],
   "source": [
    "from implementations import *\n",
    "lambda_=0.04\n",
    "max_iters_LogRGD = 10\n",
    "gamma_LogRGD_jet0 = 0.6\n",
    "gamma_LogRGD_jet1 = 0.6\n",
    "gamma_LogRGD_jet23 = 0.6\n",
    "initial_w_LogRGD_jet0 = (np.array([0]*tx_train_jet0.shape[1]))\n",
    "initial_w_LogRGD_jet1 = (np.array([0]*tx_train_jet1.shape[1]))\n",
    "initial_w_LogRGD_jet23 = (np.array([0]*tx_train_jet23.shape[1]))\n",
    "\n",
    "w_LogRGD_jet0, loss_LogRGD_jet0 = reg_logistic_regression(y_train_jet0, tx_train_jet0, lambda_, initial_w_LogRGD_jet0, max_iters_LogRGD, gamma_LogRGD_jet0)\n",
    "w_LogRGD_jet1, loss_LogRGD_jet1 = reg_logistic_regression(y_train_jet1, tx_train_jet1, lambda_, initial_w_LogRGD_jet1, max_iters_LogRGD, gamma_LogRGD_jet1)\n",
    "w_LogRGD_jet23, loss_LogRGD_jet23 = reg_logistic_regression(y_train_jet23, tx_train_jet23, lambda_, initial_w_LogRGD_jet23, max_iters_LogRGD, gamma_LogRGD_jet23)\n",
    "\n",
    "\n",
    "y_pred_LogRGD_jet0 = predict_labels(w_LogRGD_jet0, tx_test_jet0)\n",
    "y_pred_LogRGD_jet1 = predict_labels(w_LogRGD_jet1, tx_test_jet1)\n",
    "y_pred_LogRGD_jet23 = predict_labels(w_LogRGD_jet23, tx_test_jet23)\n",
    "\n",
    "y_pred_LogRGD=np.zeros((len(yb_test),1))\n",
    "np.put(y_pred_LogRGD,indices_data_test_jet0,y_pred_LogRGD_jet0)\n",
    "np.put(y_pred_LogRGD,indices_data_test_jet1,y_pred_LogRGD_jet1)\n",
    "np.put(y_pred_LogRGD,indices_data_test_jet23,y_pred_LogRGD_jet23)\n",
    "\n"
   ]
  },
  {
   "cell_type": "code",
   "execution_count": 86,
   "metadata": {},
   "outputs": [
    {
     "data": {
      "text/plain": [
       "(509111911.69880909, 253167123.22538066, 755281426.89028668)"
      ]
     },
     "execution_count": 86,
     "metadata": {},
     "output_type": "execute_result"
    }
   ],
   "source": [
    "loss_LogRGD_jet0,loss_LogRGD_jet1,loss_LogRGD_jet23"
   ]
  },
  {
   "cell_type": "markdown",
   "metadata": {},
   "source": [
    "## implement regularized logistic regression using GD"
   ]
  },
  {
   "cell_type": "code",
   "execution_count": 73,
   "metadata": {},
   "outputs": [
    {
     "ename": "ValueError",
     "evalue": "Input must be 1- or 2-d.",
     "output_type": "error",
     "traceback": [
      "\u001b[0;31m---------------------------------------------------------------------------\u001b[0m",
      "\u001b[0;31mValueError\u001b[0m                                Traceback (most recent call last)",
      "\u001b[0;32m<ipython-input-73-1df05ca5d5d3>\u001b[0m in \u001b[0;36m<module>\u001b[0;34m()\u001b[0m\n\u001b[1;32m      8\u001b[0m \u001b[0minitial_w_RLogRGD_jet23\u001b[0m \u001b[0;34m=\u001b[0m \u001b[0;34m(\u001b[0m\u001b[0mnp\u001b[0m\u001b[0;34m.\u001b[0m\u001b[0marray\u001b[0m\u001b[0;34m(\u001b[0m\u001b[0;34m[\u001b[0m\u001b[0;36m0\u001b[0m\u001b[0;34m]\u001b[0m\u001b[0;34m*\u001b[0m\u001b[0mtx_train_jet23\u001b[0m\u001b[0;34m.\u001b[0m\u001b[0mshape\u001b[0m\u001b[0;34m[\u001b[0m\u001b[0;36m1\u001b[0m\u001b[0;34m]\u001b[0m\u001b[0;34m)\u001b[0m\u001b[0;34m)\u001b[0m\u001b[0;34m\u001b[0m\u001b[0m\n\u001b[1;32m      9\u001b[0m \u001b[0;34m\u001b[0m\u001b[0m\n\u001b[0;32m---> 10\u001b[0;31m \u001b[0mw_RLogRGD_jet0\u001b[0m\u001b[0;34m,\u001b[0m \u001b[0mloss_RLogRGD_jet0\u001b[0m \u001b[0;34m=\u001b[0m \u001b[0mreg_logistic_regression\u001b[0m\u001b[0;34m(\u001b[0m\u001b[0my_train_jet0\u001b[0m\u001b[0;34m,\u001b[0m \u001b[0mtx_train_jet0\u001b[0m\u001b[0;34m,\u001b[0m \u001b[0mlambda_\u001b[0m\u001b[0;34m,\u001b[0m \u001b[0minitial_w_RLogRGD_jet0\u001b[0m\u001b[0;34m,\u001b[0m \u001b[0mmax_iters_RLogRGD\u001b[0m\u001b[0;34m,\u001b[0m \u001b[0mgamma_RLogRGD_jet0\u001b[0m\u001b[0;34m)\u001b[0m\u001b[0;34m\u001b[0m\u001b[0m\n\u001b[0m\u001b[1;32m     11\u001b[0m \u001b[0mw_RLogRGD_jet1\u001b[0m\u001b[0;34m,\u001b[0m \u001b[0mloss_RLogRGD_jet1\u001b[0m \u001b[0;34m=\u001b[0m \u001b[0mreg_logistic_regression\u001b[0m\u001b[0;34m(\u001b[0m\u001b[0my_train_jet1\u001b[0m\u001b[0;34m,\u001b[0m \u001b[0mtx_train_jet1\u001b[0m\u001b[0;34m,\u001b[0m \u001b[0mlambda_\u001b[0m\u001b[0;34m,\u001b[0m \u001b[0minitial_w_RLogRGD_jet1\u001b[0m\u001b[0;34m,\u001b[0m \u001b[0mmax_iters_RLogRGD\u001b[0m\u001b[0;34m,\u001b[0m \u001b[0mgamma_RLogRGD_jet1\u001b[0m\u001b[0;34m)\u001b[0m\u001b[0;34m\u001b[0m\u001b[0m\n\u001b[1;32m     12\u001b[0m \u001b[0mw_RLogRGD_jet23\u001b[0m\u001b[0;34m,\u001b[0m \u001b[0mloss_RLogRGD_jet23\u001b[0m \u001b[0;34m=\u001b[0m \u001b[0mreg_logistic_regression\u001b[0m\u001b[0;34m(\u001b[0m\u001b[0my_train_jet23\u001b[0m\u001b[0;34m,\u001b[0m \u001b[0mtx_train_jet23\u001b[0m\u001b[0;34m,\u001b[0m \u001b[0mlambda_\u001b[0m\u001b[0;34m,\u001b[0m \u001b[0minitial_w_RLogRGD_jet23\u001b[0m\u001b[0;34m,\u001b[0m \u001b[0mmax_iters_RLogRGD\u001b[0m\u001b[0;34m,\u001b[0m \u001b[0mgamma_RLogRGD_jet23\u001b[0m\u001b[0;34m)\u001b[0m\u001b[0;34m\u001b[0m\u001b[0m\n",
      "\u001b[0;32m~/Documents/EPFL/MACHINE_LEARNING/projects/project1/scripts/implementations.py\u001b[0m in \u001b[0;36mreg_logistic_regression\u001b[0;34m(y, tx, lambda_, initial_w, max_iters, gamma)\u001b[0m\n\u001b[1;32m    231\u001b[0m     \u001b[0;32mfor\u001b[0m \u001b[0miter\u001b[0m \u001b[0;32min\u001b[0m \u001b[0mrange\u001b[0m\u001b[0;34m(\u001b[0m\u001b[0mmax_iters\u001b[0m\u001b[0;34m)\u001b[0m\u001b[0;34m:\u001b[0m\u001b[0;34m\u001b[0m\u001b[0m\n\u001b[1;32m    232\u001b[0m         \u001b[0;31m# get loss and update w.\u001b[0m\u001b[0;34m\u001b[0m\u001b[0;34m\u001b[0m\u001b[0m\n\u001b[0;32m--> 233\u001b[0;31m         \u001b[0mloss\u001b[0m\u001b[0;34m,\u001b[0m \u001b[0mw\u001b[0m \u001b[0;34m=\u001b[0m \u001b[0mlearning_by_penalized_gradient\u001b[0m\u001b[0;34m(\u001b[0m\u001b[0my\u001b[0m\u001b[0;34m,\u001b[0m \u001b[0mtx\u001b[0m\u001b[0;34m,\u001b[0m \u001b[0mw\u001b[0m\u001b[0;34m,\u001b[0m \u001b[0mgamma\u001b[0m\u001b[0;34m,\u001b[0m \u001b[0mlambda_\u001b[0m\u001b[0;34m)\u001b[0m\u001b[0;34m\u001b[0m\u001b[0m\n\u001b[0m\u001b[1;32m    234\u001b[0m         \u001b[0mlosses\u001b[0m\u001b[0;34m.\u001b[0m\u001b[0mappend\u001b[0m\u001b[0;34m(\u001b[0m\u001b[0mloss\u001b[0m\u001b[0;34m)\u001b[0m\u001b[0;34m\u001b[0m\u001b[0m\n\u001b[1;32m    235\u001b[0m \u001b[0;34m\u001b[0m\u001b[0m\n",
      "\u001b[0;32m~/Documents/EPFL/MACHINE_LEARNING/projects/project1/scripts/implementations.py\u001b[0m in \u001b[0;36mlearning_by_penalized_gradient\u001b[0;34m(y, tx, w, gamma, lambda_)\u001b[0m\n\u001b[1;32m    218\u001b[0m     \"\"\" Do one step of gradient descent, using the penalized logistic regression.\n\u001b[1;32m    219\u001b[0m     Return the loss and updated w. \"\"\"\n\u001b[0;32m--> 220\u001b[0;31m     \u001b[0mloss\u001b[0m\u001b[0;34m,\u001b[0m \u001b[0mgradient\u001b[0m \u001b[0;34m=\u001b[0m \u001b[0mpenalized_logistic_regression\u001b[0m\u001b[0;34m(\u001b[0m\u001b[0my\u001b[0m\u001b[0;34m,\u001b[0m\u001b[0mtx\u001b[0m\u001b[0;34m,\u001b[0m\u001b[0mw\u001b[0m\u001b[0;34m,\u001b[0m\u001b[0mlambda_\u001b[0m\u001b[0;34m)\u001b[0m\u001b[0;34m\u001b[0m\u001b[0m\n\u001b[0m\u001b[1;32m    221\u001b[0m     \u001b[0mw\u001b[0m \u001b[0;34m=\u001b[0m \u001b[0mw\u001b[0m \u001b[0;34m-\u001b[0m \u001b[0mgamma\u001b[0m\u001b[0;34m*\u001b[0m\u001b[0mgradient\u001b[0m\u001b[0;34m\u001b[0m\u001b[0m\n\u001b[1;32m    222\u001b[0m     \u001b[0;32mreturn\u001b[0m \u001b[0mloss\u001b[0m\u001b[0;34m,\u001b[0m \u001b[0mw\u001b[0m\u001b[0;34m\u001b[0m\u001b[0m\n",
      "\u001b[0;32m~/Documents/EPFL/MACHINE_LEARNING/projects/project1/scripts/implementations.py\u001b[0m in \u001b[0;36mpenalized_logistic_regression\u001b[0;34m(y, tx, w, lambda_)\u001b[0m\n\u001b[1;32m    212\u001b[0m     \u001b[0mloss\u001b[0m \u001b[0;34m=\u001b[0m \u001b[0mcalculate_loss\u001b[0m\u001b[0;34m(\u001b[0m\u001b[0my\u001b[0m\u001b[0;34m,\u001b[0m\u001b[0mtx\u001b[0m\u001b[0;34m,\u001b[0m\u001b[0mw\u001b[0m\u001b[0;34m)\u001b[0m \u001b[0;34m+\u001b[0m \u001b[0mlambda_\u001b[0m\u001b[0;34m*\u001b[0m\u001b[0mnp\u001b[0m\u001b[0;34m.\u001b[0m\u001b[0msquare\u001b[0m\u001b[0;34m(\u001b[0m\u001b[0mnp\u001b[0m\u001b[0;34m.\u001b[0m\u001b[0mlinalg\u001b[0m\u001b[0;34m.\u001b[0m\u001b[0mnorm\u001b[0m\u001b[0;34m(\u001b[0m\u001b[0mw\u001b[0m\u001b[0;34m)\u001b[0m\u001b[0;34m)\u001b[0m\u001b[0;34m\u001b[0m\u001b[0m\n\u001b[1;32m    213\u001b[0m     \u001b[0mgradient\u001b[0m \u001b[0;34m=\u001b[0m \u001b[0mcalculate_gradient\u001b[0m\u001b[0;34m(\u001b[0m\u001b[0my\u001b[0m\u001b[0;34m,\u001b[0m\u001b[0mtx\u001b[0m\u001b[0;34m,\u001b[0m\u001b[0mw\u001b[0m\u001b[0;34m)\u001b[0m \u001b[0;34m+\u001b[0m \u001b[0;36m2\u001b[0m\u001b[0;34m*\u001b[0m\u001b[0mlambda_\u001b[0m\u001b[0;34m*\u001b[0m\u001b[0mw\u001b[0m\u001b[0;34m\u001b[0m\u001b[0m\n\u001b[0;32m--> 214\u001b[0;31m     \u001b[0mhessian\u001b[0m \u001b[0;34m=\u001b[0m \u001b[0mcalculate_hessian\u001b[0m\u001b[0;34m(\u001b[0m\u001b[0my\u001b[0m\u001b[0;34m,\u001b[0m\u001b[0mtx\u001b[0m\u001b[0;34m,\u001b[0m\u001b[0mw\u001b[0m\u001b[0;34m)\u001b[0m\u001b[0;34m\u001b[0m\u001b[0m\n\u001b[0m\u001b[1;32m    215\u001b[0m     \u001b[0;32mreturn\u001b[0m \u001b[0mloss\u001b[0m\u001b[0;34m,\u001b[0m \u001b[0mgradient\u001b[0m\u001b[0;34m\u001b[0m\u001b[0m\n\u001b[1;32m    216\u001b[0m \u001b[0;34m\u001b[0m\u001b[0m\n",
      "\u001b[0;32m~/Documents/EPFL/MACHINE_LEARNING/projects/project1/scripts/implementations.py\u001b[0m in \u001b[0;36mcalculate_hessian\u001b[0;34m(y, tx, w)\u001b[0m\n\u001b[1;32m    168\u001b[0m     \u001b[0;34m\"\"\"return the hessian of the loss function.\"\"\"\u001b[0m\u001b[0;34m\u001b[0m\u001b[0m\n\u001b[1;32m    169\u001b[0m     \u001b[0mpred\u001b[0m \u001b[0;34m=\u001b[0m \u001b[0msigmoid\u001b[0m\u001b[0;34m(\u001b[0m\u001b[0mtx\u001b[0m\u001b[0;34m.\u001b[0m\u001b[0mdot\u001b[0m\u001b[0;34m(\u001b[0m\u001b[0mw\u001b[0m\u001b[0;34m)\u001b[0m\u001b[0;34m)\u001b[0m\u001b[0;34m\u001b[0m\u001b[0m\n\u001b[0;32m--> 170\u001b[0;31m     \u001b[0mpred\u001b[0m \u001b[0;34m=\u001b[0m \u001b[0mnp\u001b[0m\u001b[0;34m.\u001b[0m\u001b[0mdiag\u001b[0m\u001b[0;34m(\u001b[0m\u001b[0mpred\u001b[0m\u001b[0;34m.\u001b[0m\u001b[0mT\u001b[0m\u001b[0;34m[\u001b[0m\u001b[0;36m0\u001b[0m\u001b[0;34m]\u001b[0m\u001b[0;34m)\u001b[0m\u001b[0;34m\u001b[0m\u001b[0m\n\u001b[0m\u001b[1;32m    171\u001b[0m     \u001b[0mS\u001b[0m \u001b[0;34m=\u001b[0m \u001b[0mnp\u001b[0m\u001b[0;34m.\u001b[0m\u001b[0mmultiply\u001b[0m\u001b[0;34m(\u001b[0m\u001b[0mpred\u001b[0m\u001b[0;34m,\u001b[0m\u001b[0;34m(\u001b[0m\u001b[0;36m1\u001b[0m\u001b[0;34m-\u001b[0m\u001b[0mpred\u001b[0m\u001b[0;34m)\u001b[0m\u001b[0;34m)\u001b[0m\u001b[0;34m\u001b[0m\u001b[0m\n\u001b[1;32m    172\u001b[0m     \u001b[0;32mreturn\u001b[0m \u001b[0mtx\u001b[0m\u001b[0;34m.\u001b[0m\u001b[0mT\u001b[0m\u001b[0;34m.\u001b[0m\u001b[0mdot\u001b[0m\u001b[0;34m(\u001b[0m\u001b[0mS\u001b[0m\u001b[0;34m)\u001b[0m\u001b[0;34m.\u001b[0m\u001b[0mdot\u001b[0m\u001b[0;34m(\u001b[0m\u001b[0mtx\u001b[0m\u001b[0;34m)\u001b[0m\u001b[0;34m\u001b[0m\u001b[0m\n",
      "\u001b[0;32m/anaconda/lib/python3.6/site-packages/numpy/lib/twodim_base.py\u001b[0m in \u001b[0;36mdiag\u001b[0;34m(v, k)\u001b[0m\n\u001b[1;32m    257\u001b[0m         \u001b[0;32mreturn\u001b[0m \u001b[0mdiagonal\u001b[0m\u001b[0;34m(\u001b[0m\u001b[0mv\u001b[0m\u001b[0;34m,\u001b[0m \u001b[0mk\u001b[0m\u001b[0;34m)\u001b[0m\u001b[0;34m\u001b[0m\u001b[0m\n\u001b[1;32m    258\u001b[0m     \u001b[0;32melse\u001b[0m\u001b[0;34m:\u001b[0m\u001b[0;34m\u001b[0m\u001b[0m\n\u001b[0;32m--> 259\u001b[0;31m         \u001b[0;32mraise\u001b[0m \u001b[0mValueError\u001b[0m\u001b[0;34m(\u001b[0m\u001b[0;34m\"Input must be 1- or 2-d.\"\u001b[0m\u001b[0;34m)\u001b[0m\u001b[0;34m\u001b[0m\u001b[0m\n\u001b[0m\u001b[1;32m    260\u001b[0m \u001b[0;34m\u001b[0m\u001b[0m\n\u001b[1;32m    261\u001b[0m \u001b[0;34m\u001b[0m\u001b[0m\n",
      "\u001b[0;31mValueError\u001b[0m: Input must be 1- or 2-d."
     ]
    }
   ],
   "source": [
    "lambda_=0.04\n",
    "max_iters_RLogRGD = 200\n",
    "gamma_RLogRGD_jet0 = 0.6\n",
    "gamma_RLogRGD_jet1 = 0.6\n",
    "gamma_RLogRGD_jet23 = 0.6\n",
    "initial_w_RLogRGD_jet0 = (np.array([0]*tx_train_jet0.shape[1]))\n",
    "initial_w_RLogRGD_jet1 = (np.array([0]*tx_train_jet1.shape[1]))\n",
    "initial_w_RLogRGD_jet23 = (np.array([0]*tx_train_jet23.shape[1]))\n",
    "\n",
    "w_RLogRGD_jet0, loss_RLogRGD_jet0 = reg_logistic_regression(y_train_jet0, tx_train_jet0, lambda_, initial_w_RLogRGD_jet0, max_iters_RLogRGD, gamma_RLogRGD_jet0)\n",
    "w_RLogRGD_jet1, loss_RLogRGD_jet1 = reg_logistic_regression(y_train_jet1, tx_train_jet1, lambda_, initial_w_RLogRGD_jet1, max_iters_RLogRGD, gamma_RLogRGD_jet1)\n",
    "w_RLogRGD_jet23, loss_RLogRGD_jet23 = reg_logistic_regression(y_train_jet23, tx_train_jet23, lambda_, initial_w_RLogRGD_jet23, max_iters_RLogRGD, gamma_RLogRGD_jet23)\n",
    "\n",
    "\n",
    "y_pred_RLogRGD_jet0 = predict_labels(w_RLogRGD_jet0, tx_test_jet0)\n",
    "y_pred_RLogRGD_jet1 = predict_labels(w_RLogRGD_jet1, tx_test_jet1)\n",
    "y_pred_RLogRGD_jet23 = predict_labels(w_RLogRGD_jet23, tx_test_jet23)\n",
    "\n",
    "y_pred_RLogRGD=np.zeros((len(yb_test),1))\n",
    "np.put(y_pred_RLogRGD,indices_data_test_jet0,y_pred_RLogRGD_jet0)\n",
    "np.put(y_pred_RLogRGD,indices_data_test_jet1,y_pred_RLogRGD_jet1)\n",
    "np.put(y_pred_RLogRGD,indices_data_test_jet23,y_pred_RLogRGD_jet23)"
   ]
  },
  {
   "cell_type": "code",
   "execution_count": null,
   "metadata": {},
   "outputs": [],
   "source": []
  }
 ],
 "metadata": {
  "kernelspec": {
   "display_name": "Python [conda root]",
   "language": "python",
   "name": "conda-root-py"
  },
  "language_info": {
   "codemirror_mode": {
    "name": "ipython",
    "version": 3
   },
   "file_extension": ".py",
   "mimetype": "text/x-python",
   "name": "python",
   "nbconvert_exporter": "python",
   "pygments_lexer": "ipython3",
   "version": "3.6.1"
  }
 },
 "nbformat": 4,
 "nbformat_minor": 2
}
